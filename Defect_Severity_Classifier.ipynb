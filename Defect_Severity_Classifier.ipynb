{
  "cells": [
    {
      "cell_type": "code",
      "execution_count": null,
      "metadata": {
        "id": "Kij5uwGDqeaO"
      },
      "outputs": [],
      "source": [
        "import os\n",
        "import pandas as pd\n",
        "import numpy as np\n",
        "from pandas import read_csv\n",
        "from sklearn.tree import DecisionTreeClassifier\n",
        "from sklearn.metrics import f1_score\n",
        "from sklearn import metrics\n",
        "from sklearn.metrics import confusion_matrix\n",
        "from sklearn.linear_model import LogisticRegression\n",
        "from imblearn.over_sampling import ADASYN"
      ]
    },
    {
      "cell_type": "code",
      "execution_count": null,
      "metadata": {
        "id": "QtjUt8H_pAnY",
        "colab": {
          "base_uri": "https://localhost:8080/"
        },
        "outputId": "8a9e15fe-0c26-4259-9ef7-24d96cbbb67d"
      },
      "outputs": [
        {
          "output_type": "stream",
          "name": "stdout",
          "text": [
            "Drive already mounted at /content/gdrive; to attempt to forcibly remount, call drive.mount(\"/content/gdrive\", force_remount=True).\n"
          ]
        }
      ],
      "source": [
        "from google.colab import drive\n",
        "drive.mount('/content/gdrive')"
      ]
    },
    {
      "cell_type": "code",
      "execution_count": null,
      "metadata": {
        "id": "WyEsuPjIoRom",
        "colab": {
          "base_uri": "https://localhost:8080/",
          "height": 487
        },
        "outputId": "434a6d97-2281-4bce-c5cf-cd9e1d3b6434"
      },
      "outputs": [
        {
          "output_type": "execute_result",
          "data": {
            "text/plain": [
              "                                             classname   \\\n",
              "0     org::eclipse::mylyn::internal::trac::core::uti...   \n",
              "1     org::eclipse::mylyn::internal::sandbox::bridge...   \n",
              "2     org::eclipse::mylyn::internal::jira::core::mod...   \n",
              "3     org::eclipse::mylyn::internal::wikitext::texti...   \n",
              "4     org::eclipse::mylyn::internal::java::ui::searc...   \n",
              "...                                                 ...   \n",
              "4351  org::eclipse::jdt::internal::compiler::codegen...   \n",
              "4352  org::eclipse::jdt::internal::compiler::ast::Ja...   \n",
              "4353  org::eclipse::jdt::internal::core::search::mat...   \n",
              "4354  org::eclipse::jdt::core::dom::RecoveredVariabl...   \n",
              "4355       org::eclipse::jdt::core::CompletionProposal    \n",
              "\n",
              "       numberOfBugsFoundUntil:    numberOfNonTrivialBugsFoundUntil:   \\\n",
              "0                             6                                    4   \n",
              "1                            12                                    6   \n",
              "2                             6                                    3   \n",
              "3                             3                                    3   \n",
              "4                             3                                    0   \n",
              "...                         ...                                  ...   \n",
              "4351                         10                                    9   \n",
              "4352                         23                                   21   \n",
              "4353                         21                                   18   \n",
              "4354                          4                                    2   \n",
              "4355                         19                                   14   \n",
              "\n",
              "       numberOfMajorBugsFoundUntil:    numberOfCriticalBugsFoundUntil:   \\\n",
              "0                                  0                                  0   \n",
              "1                                  0                                  0   \n",
              "2                                  0                                  0   \n",
              "3                                  0                                  0   \n",
              "4                                  0                                  0   \n",
              "...                              ...                                ...   \n",
              "4351                               2                                  2   \n",
              "4352                               3                                  1   \n",
              "4353                               1                                  0   \n",
              "4354                               0                                  0   \n",
              "4355                               0                                  0   \n",
              "\n",
              "       numberOfHighPriorityBugsFoundUntil:   Nondefective   nonTrivialBugs   \\\n",
              "0                                         1             1                 0   \n",
              "1                                        10             1                 0   \n",
              "2                                         5             1                 0   \n",
              "3                                         0             1                 0   \n",
              "4                                         2             1                 0   \n",
              "...                                     ...           ...               ...   \n",
              "4351                                      2             1                 0   \n",
              "4352                                      1             1                 0   \n",
              "4353                                      0             0                 0   \n",
              "4354                                      0             1                 0   \n",
              "4355                                      0             0                 0   \n",
              "\n",
              "       majorBugs    criticalBugs   ...   numberOfAttributesInherited   \\\n",
              "0               0               0  ...                              0   \n",
              "1               0               0  ...                              0   \n",
              "2               0               0  ...                              0   \n",
              "3               0               0  ...                              0   \n",
              "4               0               0  ...                              8   \n",
              "...           ...             ...  ...                            ...   \n",
              "4351            0               0  ...                              0   \n",
              "4352            0               0  ...                            386   \n",
              "4353            0               0  ...                             52   \n",
              "4354            0               0  ...                              6   \n",
              "4355            0               0  ...                             20   \n",
              "\n",
              "       numberOfLinesOfCode    numberOfMethods    numberOfMethodsInherited   \\\n",
              "0                        42                  6                           9   \n",
              "1                        60                  9                           0   \n",
              "2                        13                  4                          19   \n",
              "3                        12                  4                          22   \n",
              "4                        12                  4                          47   \n",
              "...                     ...                ...                         ...   \n",
              "4351                      3                  2                           8   \n",
              "4352                     48                  6                          95   \n",
              "4353                    306                 18                          27   \n",
              "4354                     87                 20                          30   \n",
              "4355                    347                 40                          25   \n",
              "\n",
              "       numberOfPrivateAttributes    numberOfPrivateMethods   \\\n",
              "0                               0                         1   \n",
              "1                               6                         0   \n",
              "2                               3                         0   \n",
              "3                               0                         0   \n",
              "4                               0                         0   \n",
              "...                           ...                       ...   \n",
              "4351                            0                         0   \n",
              "4352                            0                         1   \n",
              "4353                            2                         0   \n",
              "4354                            2                         0   \n",
              "4355                           22                         0   \n",
              "\n",
              "       numberOfPublicAttributes    numberOfPublicMethods    rfc    wmc   \n",
              "0                              0                        5     18      8  \n",
              "1                              0                        8     29     14  \n",
              "2                              0                        3      5      4  \n",
              "3                              0                        1      6      3  \n",
              "4                              0                        2      4      5  \n",
              "...                          ...                      ...    ...    ...  \n",
              "4351                           2                        2      2      1  \n",
              "4352                           3                        3     27     14  \n",
              "4353                           6                        6     94     88  \n",
              "4354                           0                       19     47     29  \n",
              "4355                           0                       39    105    100  \n",
              "\n",
              "[4356 rows x 43 columns]"
            ],
            "text/html": [
              "\n",
              "  <div id=\"df-42c7abc0-11fe-4d6e-8a95-bc5ba4b907c7\">\n",
              "    <div class=\"colab-df-container\">\n",
              "      <div>\n",
              "<style scoped>\n",
              "    .dataframe tbody tr th:only-of-type {\n",
              "        vertical-align: middle;\n",
              "    }\n",
              "\n",
              "    .dataframe tbody tr th {\n",
              "        vertical-align: top;\n",
              "    }\n",
              "\n",
              "    .dataframe thead th {\n",
              "        text-align: right;\n",
              "    }\n",
              "</style>\n",
              "<table border=\"1\" class=\"dataframe\">\n",
              "  <thead>\n",
              "    <tr style=\"text-align: right;\">\n",
              "      <th></th>\n",
              "      <th>classname</th>\n",
              "      <th>numberOfBugsFoundUntil:</th>\n",
              "      <th>numberOfNonTrivialBugsFoundUntil:</th>\n",
              "      <th>numberOfMajorBugsFoundUntil:</th>\n",
              "      <th>numberOfCriticalBugsFoundUntil:</th>\n",
              "      <th>numberOfHighPriorityBugsFoundUntil:</th>\n",
              "      <th>Nondefective</th>\n",
              "      <th>nonTrivialBugs</th>\n",
              "      <th>majorBugs</th>\n",
              "      <th>criticalBugs</th>\n",
              "      <th>...</th>\n",
              "      <th>numberOfAttributesInherited</th>\n",
              "      <th>numberOfLinesOfCode</th>\n",
              "      <th>numberOfMethods</th>\n",
              "      <th>numberOfMethodsInherited</th>\n",
              "      <th>numberOfPrivateAttributes</th>\n",
              "      <th>numberOfPrivateMethods</th>\n",
              "      <th>numberOfPublicAttributes</th>\n",
              "      <th>numberOfPublicMethods</th>\n",
              "      <th>rfc</th>\n",
              "      <th>wmc</th>\n",
              "    </tr>\n",
              "  </thead>\n",
              "  <tbody>\n",
              "    <tr>\n",
              "      <th>0</th>\n",
              "      <td>org::eclipse::mylyn::internal::trac::core::uti...</td>\n",
              "      <td>6</td>\n",
              "      <td>4</td>\n",
              "      <td>0</td>\n",
              "      <td>0</td>\n",
              "      <td>1</td>\n",
              "      <td>1</td>\n",
              "      <td>0</td>\n",
              "      <td>0</td>\n",
              "      <td>0</td>\n",
              "      <td>...</td>\n",
              "      <td>0</td>\n",
              "      <td>42</td>\n",
              "      <td>6</td>\n",
              "      <td>9</td>\n",
              "      <td>0</td>\n",
              "      <td>1</td>\n",
              "      <td>0</td>\n",
              "      <td>5</td>\n",
              "      <td>18</td>\n",
              "      <td>8</td>\n",
              "    </tr>\n",
              "    <tr>\n",
              "      <th>1</th>\n",
              "      <td>org::eclipse::mylyn::internal::sandbox::bridge...</td>\n",
              "      <td>12</td>\n",
              "      <td>6</td>\n",
              "      <td>0</td>\n",
              "      <td>0</td>\n",
              "      <td>10</td>\n",
              "      <td>1</td>\n",
              "      <td>0</td>\n",
              "      <td>0</td>\n",
              "      <td>0</td>\n",
              "      <td>...</td>\n",
              "      <td>0</td>\n",
              "      <td>60</td>\n",
              "      <td>9</td>\n",
              "      <td>0</td>\n",
              "      <td>6</td>\n",
              "      <td>0</td>\n",
              "      <td>0</td>\n",
              "      <td>8</td>\n",
              "      <td>29</td>\n",
              "      <td>14</td>\n",
              "    </tr>\n",
              "    <tr>\n",
              "      <th>2</th>\n",
              "      <td>org::eclipse::mylyn::internal::jira::core::mod...</td>\n",
              "      <td>6</td>\n",
              "      <td>3</td>\n",
              "      <td>0</td>\n",
              "      <td>0</td>\n",
              "      <td>5</td>\n",
              "      <td>1</td>\n",
              "      <td>0</td>\n",
              "      <td>0</td>\n",
              "      <td>0</td>\n",
              "      <td>...</td>\n",
              "      <td>0</td>\n",
              "      <td>13</td>\n",
              "      <td>4</td>\n",
              "      <td>19</td>\n",
              "      <td>3</td>\n",
              "      <td>0</td>\n",
              "      <td>0</td>\n",
              "      <td>3</td>\n",
              "      <td>5</td>\n",
              "      <td>4</td>\n",
              "    </tr>\n",
              "    <tr>\n",
              "      <th>3</th>\n",
              "      <td>org::eclipse::mylyn::internal::wikitext::texti...</td>\n",
              "      <td>3</td>\n",
              "      <td>3</td>\n",
              "      <td>0</td>\n",
              "      <td>0</td>\n",
              "      <td>0</td>\n",
              "      <td>1</td>\n",
              "      <td>0</td>\n",
              "      <td>0</td>\n",
              "      <td>0</td>\n",
              "      <td>...</td>\n",
              "      <td>0</td>\n",
              "      <td>12</td>\n",
              "      <td>4</td>\n",
              "      <td>22</td>\n",
              "      <td>0</td>\n",
              "      <td>0</td>\n",
              "      <td>0</td>\n",
              "      <td>1</td>\n",
              "      <td>6</td>\n",
              "      <td>3</td>\n",
              "    </tr>\n",
              "    <tr>\n",
              "      <th>4</th>\n",
              "      <td>org::eclipse::mylyn::internal::java::ui::searc...</td>\n",
              "      <td>3</td>\n",
              "      <td>0</td>\n",
              "      <td>0</td>\n",
              "      <td>0</td>\n",
              "      <td>2</td>\n",
              "      <td>1</td>\n",
              "      <td>0</td>\n",
              "      <td>0</td>\n",
              "      <td>0</td>\n",
              "      <td>...</td>\n",
              "      <td>8</td>\n",
              "      <td>12</td>\n",
              "      <td>4</td>\n",
              "      <td>47</td>\n",
              "      <td>0</td>\n",
              "      <td>0</td>\n",
              "      <td>0</td>\n",
              "      <td>2</td>\n",
              "      <td>4</td>\n",
              "      <td>5</td>\n",
              "    </tr>\n",
              "    <tr>\n",
              "      <th>...</th>\n",
              "      <td>...</td>\n",
              "      <td>...</td>\n",
              "      <td>...</td>\n",
              "      <td>...</td>\n",
              "      <td>...</td>\n",
              "      <td>...</td>\n",
              "      <td>...</td>\n",
              "      <td>...</td>\n",
              "      <td>...</td>\n",
              "      <td>...</td>\n",
              "      <td>...</td>\n",
              "      <td>...</td>\n",
              "      <td>...</td>\n",
              "      <td>...</td>\n",
              "      <td>...</td>\n",
              "      <td>...</td>\n",
              "      <td>...</td>\n",
              "      <td>...</td>\n",
              "      <td>...</td>\n",
              "      <td>...</td>\n",
              "      <td>...</td>\n",
              "    </tr>\n",
              "    <tr>\n",
              "      <th>4351</th>\n",
              "      <td>org::eclipse::jdt::internal::compiler::codegen...</td>\n",
              "      <td>10</td>\n",
              "      <td>9</td>\n",
              "      <td>2</td>\n",
              "      <td>2</td>\n",
              "      <td>2</td>\n",
              "      <td>1</td>\n",
              "      <td>0</td>\n",
              "      <td>0</td>\n",
              "      <td>0</td>\n",
              "      <td>...</td>\n",
              "      <td>0</td>\n",
              "      <td>3</td>\n",
              "      <td>2</td>\n",
              "      <td>8</td>\n",
              "      <td>0</td>\n",
              "      <td>0</td>\n",
              "      <td>2</td>\n",
              "      <td>2</td>\n",
              "      <td>2</td>\n",
              "      <td>1</td>\n",
              "    </tr>\n",
              "    <tr>\n",
              "      <th>4352</th>\n",
              "      <td>org::eclipse::jdt::internal::compiler::ast::Ja...</td>\n",
              "      <td>23</td>\n",
              "      <td>21</td>\n",
              "      <td>3</td>\n",
              "      <td>1</td>\n",
              "      <td>1</td>\n",
              "      <td>1</td>\n",
              "      <td>0</td>\n",
              "      <td>0</td>\n",
              "      <td>0</td>\n",
              "      <td>...</td>\n",
              "      <td>386</td>\n",
              "      <td>48</td>\n",
              "      <td>6</td>\n",
              "      <td>95</td>\n",
              "      <td>0</td>\n",
              "      <td>1</td>\n",
              "      <td>3</td>\n",
              "      <td>3</td>\n",
              "      <td>27</td>\n",
              "      <td>14</td>\n",
              "    </tr>\n",
              "    <tr>\n",
              "      <th>4353</th>\n",
              "      <td>org::eclipse::jdt::internal::core::search::mat...</td>\n",
              "      <td>21</td>\n",
              "      <td>18</td>\n",
              "      <td>1</td>\n",
              "      <td>0</td>\n",
              "      <td>0</td>\n",
              "      <td>0</td>\n",
              "      <td>0</td>\n",
              "      <td>0</td>\n",
              "      <td>0</td>\n",
              "      <td>...</td>\n",
              "      <td>52</td>\n",
              "      <td>306</td>\n",
              "      <td>18</td>\n",
              "      <td>27</td>\n",
              "      <td>2</td>\n",
              "      <td>0</td>\n",
              "      <td>6</td>\n",
              "      <td>6</td>\n",
              "      <td>94</td>\n",
              "      <td>88</td>\n",
              "    </tr>\n",
              "    <tr>\n",
              "      <th>4354</th>\n",
              "      <td>org::eclipse::jdt::core::dom::RecoveredVariabl...</td>\n",
              "      <td>4</td>\n",
              "      <td>2</td>\n",
              "      <td>0</td>\n",
              "      <td>0</td>\n",
              "      <td>0</td>\n",
              "      <td>1</td>\n",
              "      <td>0</td>\n",
              "      <td>0</td>\n",
              "      <td>0</td>\n",
              "      <td>...</td>\n",
              "      <td>6</td>\n",
              "      <td>87</td>\n",
              "      <td>20</td>\n",
              "      <td>30</td>\n",
              "      <td>2</td>\n",
              "      <td>0</td>\n",
              "      <td>0</td>\n",
              "      <td>19</td>\n",
              "      <td>47</td>\n",
              "      <td>29</td>\n",
              "    </tr>\n",
              "    <tr>\n",
              "      <th>4355</th>\n",
              "      <td>org::eclipse::jdt::core::CompletionProposal</td>\n",
              "      <td>19</td>\n",
              "      <td>14</td>\n",
              "      <td>0</td>\n",
              "      <td>0</td>\n",
              "      <td>0</td>\n",
              "      <td>0</td>\n",
              "      <td>0</td>\n",
              "      <td>0</td>\n",
              "      <td>0</td>\n",
              "      <td>...</td>\n",
              "      <td>20</td>\n",
              "      <td>347</td>\n",
              "      <td>40</td>\n",
              "      <td>25</td>\n",
              "      <td>22</td>\n",
              "      <td>0</td>\n",
              "      <td>0</td>\n",
              "      <td>39</td>\n",
              "      <td>105</td>\n",
              "      <td>100</td>\n",
              "    </tr>\n",
              "  </tbody>\n",
              "</table>\n",
              "<p>4356 rows × 43 columns</p>\n",
              "</div>\n",
              "      <button class=\"colab-df-convert\" onclick=\"convertToInteractive('df-42c7abc0-11fe-4d6e-8a95-bc5ba4b907c7')\"\n",
              "              title=\"Convert this dataframe to an interactive table.\"\n",
              "              style=\"display:none;\">\n",
              "        \n",
              "  <svg xmlns=\"http://www.w3.org/2000/svg\" height=\"24px\"viewBox=\"0 0 24 24\"\n",
              "       width=\"24px\">\n",
              "    <path d=\"M0 0h24v24H0V0z\" fill=\"none\"/>\n",
              "    <path d=\"M18.56 5.44l.94 2.06.94-2.06 2.06-.94-2.06-.94-.94-2.06-.94 2.06-2.06.94zm-11 1L8.5 8.5l.94-2.06 2.06-.94-2.06-.94L8.5 2.5l-.94 2.06-2.06.94zm10 10l.94 2.06.94-2.06 2.06-.94-2.06-.94-.94-2.06-.94 2.06-2.06.94z\"/><path d=\"M17.41 7.96l-1.37-1.37c-.4-.4-.92-.59-1.43-.59-.52 0-1.04.2-1.43.59L10.3 9.45l-7.72 7.72c-.78.78-.78 2.05 0 2.83L4 21.41c.39.39.9.59 1.41.59.51 0 1.02-.2 1.41-.59l7.78-7.78 2.81-2.81c.8-.78.8-2.07 0-2.86zM5.41 20L4 18.59l7.72-7.72 1.47 1.35L5.41 20z\"/>\n",
              "  </svg>\n",
              "      </button>\n",
              "      \n",
              "  <style>\n",
              "    .colab-df-container {\n",
              "      display:flex;\n",
              "      flex-wrap:wrap;\n",
              "      gap: 12px;\n",
              "    }\n",
              "\n",
              "    .colab-df-convert {\n",
              "      background-color: #E8F0FE;\n",
              "      border: none;\n",
              "      border-radius: 50%;\n",
              "      cursor: pointer;\n",
              "      display: none;\n",
              "      fill: #1967D2;\n",
              "      height: 32px;\n",
              "      padding: 0 0 0 0;\n",
              "      width: 32px;\n",
              "    }\n",
              "\n",
              "    .colab-df-convert:hover {\n",
              "      background-color: #E2EBFA;\n",
              "      box-shadow: 0px 1px 2px rgba(60, 64, 67, 0.3), 0px 1px 3px 1px rgba(60, 64, 67, 0.15);\n",
              "      fill: #174EA6;\n",
              "    }\n",
              "\n",
              "    [theme=dark] .colab-df-convert {\n",
              "      background-color: #3B4455;\n",
              "      fill: #D2E3FC;\n",
              "    }\n",
              "\n",
              "    [theme=dark] .colab-df-convert:hover {\n",
              "      background-color: #434B5C;\n",
              "      box-shadow: 0px 1px 3px 1px rgba(0, 0, 0, 0.15);\n",
              "      filter: drop-shadow(0px 1px 2px rgba(0, 0, 0, 0.3));\n",
              "      fill: #FFFFFF;\n",
              "    }\n",
              "  </style>\n",
              "\n",
              "      <script>\n",
              "        const buttonEl =\n",
              "          document.querySelector('#df-42c7abc0-11fe-4d6e-8a95-bc5ba4b907c7 button.colab-df-convert');\n",
              "        buttonEl.style.display =\n",
              "          google.colab.kernel.accessAllowed ? 'block' : 'none';\n",
              "\n",
              "        async function convertToInteractive(key) {\n",
              "          const element = document.querySelector('#df-42c7abc0-11fe-4d6e-8a95-bc5ba4b907c7');\n",
              "          const dataTable =\n",
              "            await google.colab.kernel.invokeFunction('convertToInteractive',\n",
              "                                                     [key], {});\n",
              "          if (!dataTable) return;\n",
              "\n",
              "          const docLinkHtml = 'Like what you see? Visit the ' +\n",
              "            '<a target=\"_blank\" href=https://colab.research.google.com/notebooks/data_table.ipynb>data table notebook</a>'\n",
              "            + ' to learn more about interactive tables.';\n",
              "          element.innerHTML = '';\n",
              "          dataTable['output_type'] = 'display_data';\n",
              "          await google.colab.output.renderOutput(dataTable, element);\n",
              "          const docLink = document.createElement('div');\n",
              "          docLink.innerHTML = docLinkHtml;\n",
              "          element.appendChild(docLink);\n",
              "        }\n",
              "      </script>\n",
              "    </div>\n",
              "  </div>\n",
              "  "
            ]
          },
          "metadata": {},
          "execution_count": 24
        }
      ],
      "source": [
        "df=pd.read_excel('/content/gdrive/MyDrive/Btech_Project/CombinedDataset/Ecl_Myl_pde.xlsx')\n",
        "df"
      ]
    },
    {
      "cell_type": "code",
      "execution_count": null,
      "metadata": {
        "id": "yPmNxAshFMED",
        "colab": {
          "base_uri": "https://localhost:8080/"
        },
        "outputId": "b9b7d95d-87df-4e30-c448-330a08c70f26"
      },
      "outputs": [
        {
          "output_type": "stream",
          "name": "stdout",
          "text": [
            "defective  660\n"
          ]
        }
      ],
      "source": [
        "print(\"defective \",len(df[df['Nondefective'] ==0]))"
      ]
    },
    {
      "cell_type": "code",
      "execution_count": null,
      "metadata": {
        "id": "kC72pQT3maSE"
      },
      "outputs": [],
      "source": [
        "unlabelled_df = df.loc[(df['Nondefective']==0)&(df[' highPriorityBugs ']==0)&(df[' criticalBugs ']==0)&(df[' majorBugs ']==0)&(df[' nonTrivialBugs ']==0)]"
      ]
    },
    {
      "cell_type": "code",
      "execution_count": null,
      "metadata": {
        "id": "6sMj0Yuhnm9A",
        "colab": {
          "base_uri": "https://localhost:8080/"
        },
        "outputId": "1a921693-40e5-4948-ed98-e54a76ebf5d9"
      },
      "outputs": [
        {
          "output_type": "stream",
          "name": "stdout",
          "text": [
            "(405, 43)\n"
          ]
        }
      ],
      "source": [
        "print(unlabelled_df.shape)"
      ]
    },
    {
      "cell_type": "code",
      "execution_count": null,
      "metadata": {
        "id": "JMwPeyntnXNy"
      },
      "outputs": [],
      "source": [
        "labelled_df = df.loc[~((df['Nondefective']==0)&(df[' highPriorityBugs ']==0)&(df[' criticalBugs ']==0)&(df[' majorBugs ']==0)&(df[' nonTrivialBugs ']==0))]"
      ]
    },
    {
      "cell_type": "code",
      "execution_count": null,
      "metadata": {
        "id": "NNaOC7LboBtF",
        "colab": {
          "base_uri": "https://localhost:8080/"
        },
        "outputId": "61a3131a-7b2c-48df-9d3d-f14e0506e1c5"
      },
      "outputs": [
        {
          "output_type": "stream",
          "name": "stdout",
          "text": [
            "(3951, 43)\n"
          ]
        }
      ],
      "source": [
        "print(labelled_df.shape)"
      ]
    },
    {
      "cell_type": "code",
      "source": [
        "df.columns"
      ],
      "metadata": {
        "id": "uwHWGAorwSBG",
        "colab": {
          "base_uri": "https://localhost:8080/"
        },
        "outputId": "02de3571-3307-47de-c125-5df0567b3523"
      },
      "execution_count": null,
      "outputs": [
        {
          "output_type": "execute_result",
          "data": {
            "text/plain": [
              "Index(['classname ', ' numberOfBugsFoundUntil: ',\n",
              "       ' numberOfNonTrivialBugsFoundUntil: ', ' numberOfMajorBugsFoundUntil: ',\n",
              "       ' numberOfCriticalBugsFoundUntil: ',\n",
              "       ' numberOfHighPriorityBugsFoundUntil: ', 'Nondefective',\n",
              "       ' nonTrivialBugs ', ' majorBugs ', ' criticalBugs ',\n",
              "       ' highPriorityBugs ', ' numberOfVersionsUntil: ',\n",
              "       ' numberOfFixesUntil: ', ' numberOfRefactoringsUntil: ',\n",
              "       ' numberOfAuthorsUntil: ', ' linesAddedUntil: ',\n",
              "       ' maxLinesAddedUntil: ', ' avgLinesAddedUntil: ',\n",
              "       ' linesRemovedUntil: ', ' maxLinesRemovedUntil: ',\n",
              "       ' avgLinesRemovedUntil: ', ' codeChurnUntil: ', ' maxCodeChurnUntil: ',\n",
              "       ' avgCodeChurnUntil: ', ' ageWithRespectTo: ',\n",
              "       ' weightedAgeWithRespectTo: ', ' cbo ', ' dit ', ' fanIn ', ' fanOut ',\n",
              "       ' lcom ', ' noc ', ' numberOfAttributes ',\n",
              "       ' numberOfAttributesInherited ', ' numberOfLinesOfCode ',\n",
              "       ' numberOfMethods ', ' numberOfMethodsInherited ',\n",
              "       ' numberOfPrivateAttributes ', ' numberOfPrivateMethods ',\n",
              "       ' numberOfPublicAttributes ', ' numberOfPublicMethods ', ' rfc ',\n",
              "       ' wmc '],\n",
              "      dtype='object')"
            ]
          },
          "metadata": {},
          "execution_count": 30
        }
      ]
    },
    {
      "cell_type": "markdown",
      "source": [
        "# Generating **X,y**"
      ],
      "metadata": {
        "id": "pTiWcvRnwt3B"
      }
    },
    {
      "cell_type": "code",
      "execution_count": null,
      "metadata": {
        "id": "6fjSQ1J-orWX",
        "colab": {
          "base_uri": "https://localhost:8080/"
        },
        "outputId": "36b7dd1d-8787-4c7c-9e9d-bf8efe559dc7"
      },
      "outputs": [
        {
          "output_type": "stream",
          "name": "stdout",
          "text": [
            "x :  [[6 4 0 ... 5 18 8]\n",
            " [12 6 0 ... 8 29 14]\n",
            " [6 3 0 ... 3 5 4]\n",
            " ...\n",
            " [10 9 2 ... 2 2 1]\n",
            " [23 21 3 ... 3 27 14]\n",
            " [4 2 0 ... 19 47 29]]\n",
            "Y :  [[0 0 0 0 1]\n",
            " [0 0 0 0 1]\n",
            " [0 0 0 0 1]\n",
            " ...\n",
            " [0 0 0 0 1]\n",
            " [0 0 0 0 1]\n",
            " [0 0 0 0 1]]\n"
          ]
        }
      ],
      "source": [
        "data =labelled_df.values\n",
        "idx_OUT_columns = [10,9,8,7,6]\n",
        "idx_IN_columns = [i for i in range(np.shape(data)[1]) if i not in idx_OUT_columns]\n",
        "x = data[:,idx_IN_columns]\n",
        "x = x[:,1:]\n",
        "y = data[:,idx_OUT_columns]\n",
        "y=y.astype('int')\n",
        "print(\"x : \",x)\n",
        "print(\"Y : \",y)"
      ]
    },
    {
      "cell_type": "code",
      "execution_count": null,
      "metadata": {
        "id": "gDiHXx_LzNG0"
      },
      "outputs": [],
      "source": [
        "data =unlabelled_df.values\n",
        "idx_OUT_columns = [10,9,8,7,6]\n",
        "idx_IN_columns = [i for i in range(np.shape(data)[1]) if i not in idx_OUT_columns]\n",
        "X_unlabelled = data[:,idx_IN_columns]\n",
        "X_unlabelled = X_unlabelled[:,1:]"
      ]
    },
    {
      "cell_type": "code",
      "source": [
        "oversample = ADASYN(n_neighbors=1)\n",
        "X, Y = oversample.fit_resample(x,y)"
      ],
      "metadata": {
        "id": "XHRwS1xOQW8b"
      },
      "execution_count": null,
      "outputs": []
    },
    {
      "cell_type": "markdown",
      "source": [
        "# **CLASSESS**"
      ],
      "metadata": {
        "id": "Z5Wd0wBkrdAt"
      }
    },
    {
      "cell_type": "code",
      "execution_count": null,
      "metadata": {
        "id": "mgaK1uplo0Fl"
      },
      "outputs": [],
      "source": [
        "def counting(y):\n",
        "  count=[0,0,0,0,0]\n",
        "  for i in range(len(y)):\n",
        "    k=0\n",
        "    for j in range(5):\n",
        "      if(y[i][j]==1):\n",
        "        count[j]+=1\n",
        "  print(\"no of nonTrivialBugs \",count[3])\n",
        "  print(\"no of majorBugs \",count[2])\n",
        "  print(\"no of criticalBugs \",count[1])\n",
        "  print(\"no of highPriorityBugs \",count[0])\n",
        "  print(\"no of Nondefective modules \",count[4])\n",
        "  return count;"
      ]
    },
    {
      "cell_type": "code",
      "source": [
        "counting(Y)"
      ],
      "metadata": {
        "id": "tgo4L60Dwlqb",
        "colab": {
          "base_uri": "https://localhost:8080/"
        },
        "outputId": "50b9bf15-509d-4d37-f964-023a7eec9646"
      },
      "execution_count": null,
      "outputs": [
        {
          "output_type": "stream",
          "name": "stdout",
          "text": [
            "no of nonTrivialBugs  3651\n",
            "no of majorBugs  3717\n",
            "no of criticalBugs  3690\n",
            "no of highPriorityBugs  3709\n",
            "no of Nondefective modules  3696\n"
          ]
        },
        {
          "output_type": "execute_result",
          "data": {
            "text/plain": [
              "[3709, 3690, 3717, 3651, 3696]"
            ]
          },
          "metadata": {},
          "execution_count": 35
        }
      ]
    },
    {
      "cell_type": "code",
      "source": [
        "Y=np.argmax(Y,axis=1)"
      ],
      "metadata": {
        "id": "MFKzBHEHbJpH"
      },
      "execution_count": null,
      "outputs": []
    },
    {
      "cell_type": "code",
      "source": [
        "def Function(clf):\n",
        "  clf.fit(X, Y)\n",
        "  y_hat_train = clf.predict(X)\n",
        "  train_f1 = f1_score(Y, y_hat_train,average='micro')\n",
        "  print(f\"Train f1: {train_f1}\")\n",
        "  df=pd.read_excel('/content/gdrive/MyDrive/Btech_Project/CombinedDataset/equinox.xlsx')\n",
        "  labelled_df = df.loc[~((df['Nondefective']==0)&(df[' highPriorityBugs ']==0)&(df[' criticalBugs ']==0)&(df[' majorBugs ']==0)&(df[' nonTrivialBugs ']==0))]\n",
        "  data =labelled_df.values\n",
        "  idx_OUT_columns = [10,9,8,7,6]\n",
        "  idx_IN_columns = [i for i in range(np.shape(data)[1]) if i not in idx_OUT_columns]\n",
        "  x_test = data[:,idx_IN_columns]\n",
        "  x_test = x_test[:,1:]\n",
        "  y_test = data[:,idx_OUT_columns]\n",
        "  y_test=y_test.astype('int')\n",
        "  y_test=np.argmax(y_test,axis=1)\n",
        "  yhat_test= clf.predict(x_test)\n",
        "  yhat_pred_probs = clf.predict_proba(x_test)\n",
        "  print(\"test f1score : \",f1_score(y_test, yhat_test,average='micro'))\n",
        "  CM=confusion_matrix(y_test, yhat_test,labels=[0,1,2,3,4])\n",
        "\n",
        "  print(CM)\n",
        "\n",
        "  Risk_HP=((0.1*CM[0][1])+(0.2*CM[0][2])+(0.3*CM[0][3])+(0.4*CM[0][4]))/(CM[0][0]+CM[0][1]+CM[0][2]+CM[0][3]+CM[0][4])\n",
        "  Risk_C=((0.1*CM[1][2])+(0.2*CM[1][3])+(0.3*CM[1][4]))/(CM[1][0]+CM[1][1]+CM[1][2]+CM[1][3]+CM[1][4])\n",
        "  Risk_M=((0.1*CM[2][3])+(0.2*CM[2][4]))/(CM[2][0]+CM[2][1]+CM[2][2]+CM[2][3]+CM[2][4])\n",
        "  Risk_NT=(0.1*CM[3][4])/(CM[3][0]+CM[3][1]+CM[3][2]+CM[3][3]+CM[4][4])\n",
        "  print(\"Risk Factor for High Priority\",Risk_HP)\n",
        "  print(\"Risk Factor for Critical\",Risk_C)\n",
        "  print(\"Risk Factor for Major\",Risk_M)\n",
        "  print('PTN:',CM[4][4],'/',len(x_test),'=',CM[4][4]/len(x_test))\n",
        "  total_loc=0\n",
        "  tn_loc=0\n",
        "  for i in range(len(x_test)):\n",
        "    total_loc=total_loc+x_test[i][28]\n",
        "    if((yhat_test[i]==4)and(y_test[i]==4)):\n",
        "      tn_loc=tn_loc+x_test[i][28]\n",
        "  print('Saved Budget:',tn_loc)\n",
        "  print('PSB:',tn_loc/total_loc)\n",
        "  print('PNTN:',(1-(CM[4][4]/len(x_test))))\n",
        "  print('Remaining Servie Time:',total_loc-tn_loc)\n",
        "  print('PRST:',(1-(tn_loc/total_loc)))"
      ],
      "metadata": {
        "id": "arDfiYTUbptS"
      },
      "execution_count": null,
      "outputs": []
    },
    {
      "cell_type": "code",
      "source": [
        "Function(LogisticRegression());"
      ],
      "metadata": {
        "id": "I4TloQsWMFaa",
        "colab": {
          "base_uri": "https://localhost:8080/"
        },
        "outputId": "4cb209f4-7d23-4dfd-e260-d5562d8c2492"
      },
      "execution_count": null,
      "outputs": [
        {
          "output_type": "stream",
          "name": "stderr",
          "text": [
            "/usr/local/lib/python3.7/dist-packages/sklearn/linear_model/_logistic.py:818: ConvergenceWarning: lbfgs failed to converge (status=1):\n",
            "STOP: TOTAL NO. of ITERATIONS REACHED LIMIT.\n",
            "\n",
            "Increase the number of iterations (max_iter) or scale the data as shown in:\n",
            "    https://scikit-learn.org/stable/modules/preprocessing.html\n",
            "Please also refer to the documentation for alternative solver options:\n",
            "    https://scikit-learn.org/stable/modules/linear_model.html#logistic-regression\n",
            "  extra_warning_msg=_LOGISTIC_SOLVER_CONVERGENCE_MSG,\n"
          ]
        },
        {
          "output_type": "stream",
          "name": "stdout",
          "text": [
            "Train f1: 0.4986188593403022\n",
            "test f1score :  0.7326732673267327\n",
            "[[  0   0   0   0   0]\n",
            " [  0   0   0   0   1]\n",
            " [  0   1   0   1   1]\n",
            " [  1   0   1   0   1]\n",
            " [  7   5  34   1 148]]\n",
            "Risk Factor for High Priority nan\n",
            "Risk Factor for Critical 0.3\n",
            "Risk Factor for Major 0.10000000000000002\n",
            "PTN: 148 / 202 = 0.7326732673267327\n",
            "Saved Budget: 3386\n",
            "PSB: 0.25564363910909776\n",
            "PNTN: 0.26732673267326734\n",
            "Remaining Servie Time: 9859\n",
            "PRST: 0.7443563608909023\n"
          ]
        },
        {
          "output_type": "stream",
          "name": "stderr",
          "text": [
            "/usr/local/lib/python3.7/dist-packages/ipykernel_launcher.py:23: RuntimeWarning: invalid value encountered in double_scalars\n"
          ]
        }
      ]
    },
    {
      "cell_type": "code",
      "source": [
        "Function(DecisionTreeClassifier())"
      ],
      "metadata": {
        "colab": {
          "base_uri": "https://localhost:8080/"
        },
        "id": "pbwH5wPsLaLu",
        "outputId": "0a36ec35-086b-4352-ee56-d981f39a62e5"
      },
      "execution_count": null,
      "outputs": [
        {
          "output_type": "stream",
          "name": "stdout",
          "text": [
            "Train f1: 1.0\n",
            "test f1score :  0.9405940594059405\n",
            "[[  0   0   0   0   0]\n",
            " [  0   0   0   0   1]\n",
            " [  0   0   1   0   2]\n",
            " [  0   0   0   0   3]\n",
            " [  0   2   4   0 189]]\n",
            "Risk Factor for High Priority nan\n",
            "Risk Factor for Critical 0.3\n",
            "Risk Factor for Major 0.13333333333333333\n",
            "PTN: 189 / 202 = 0.9356435643564357\n",
            "Saved Budget: 9908\n",
            "PSB: 0.7480558701396753\n",
            "PNTN: 0.0643564356435643\n",
            "Remaining Servie Time: 3337\n",
            "PRST: 0.25194412986032466\n"
          ]
        },
        {
          "output_type": "stream",
          "name": "stderr",
          "text": [
            "/usr/local/lib/python3.7/dist-packages/ipykernel_launcher.py:23: RuntimeWarning: invalid value encountered in double_scalars\n"
          ]
        }
      ]
    }
  ],
  "metadata": {
    "colab": {
      "name": "Defect_Severity_Classifier.ipynb",
      "provenance": [],
      "collapsed_sections": []
    },
    "kernelspec": {
      "display_name": "Python 3",
      "name": "python3"
    },
    "language_info": {
      "name": "python"
    }
  },
  "nbformat": 4,
  "nbformat_minor": 0
}