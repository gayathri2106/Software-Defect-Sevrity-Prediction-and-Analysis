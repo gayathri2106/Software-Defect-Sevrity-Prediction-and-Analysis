{
  "cells": [
    {
      "cell_type": "code",
      "execution_count": 1,
      "metadata": {
        "id": "Kij5uwGDqeaO"
      },
      "outputs": [],
      "source": [
        "import os\n",
        "import pandas as pd\n",
        "import numpy as np\n",
        "from pandas import read_csv\n",
        "from sklearn.tree import DecisionTreeClassifier\n",
        "from sklearn.metrics import f1_score\n",
        "from sklearn import metrics\n",
        "from sklearn.metrics import confusion_matrix\n",
        "from sklearn.linear_model import LogisticRegression\n",
        "from imblearn.over_sampling import ADASYN"
      ]
    },
    {
      "cell_type": "code",
      "execution_count": 2,
      "metadata": {
        "colab": {
          "base_uri": "https://localhost:8080/"
        },
        "id": "QtjUt8H_pAnY",
        "outputId": "bae515f3-b2e3-4ebb-debd-9625f8a91fb6"
      },
      "outputs": [
        {
          "output_type": "stream",
          "name": "stdout",
          "text": [
            "Mounted at /content/gdrive\n"
          ]
        }
      ],
      "source": [
        "from google.colab import drive\n",
        "drive.mount('/content/gdrive')"
      ]
    },
    {
      "cell_type": "code",
      "execution_count": 3,
      "metadata": {
        "colab": {
          "base_uri": "https://localhost:8080/",
          "height": 487
        },
        "id": "WyEsuPjIoRom",
        "outputId": "70d4ae15-73aa-40cc-92e7-9a999c3cc70a"
      },
      "outputs": [
        {
          "output_type": "execute_result",
          "data": {
            "text/plain": [
              "                                             classname   \\\n",
              "0     org::eclipse::mylyn::internal::trac::core::uti...   \n",
              "1     org::eclipse::mylyn::internal::sandbox::bridge...   \n",
              "2     org::eclipse::mylyn::internal::jira::core::mod...   \n",
              "3     org::eclipse::mylyn::internal::wikitext::texti...   \n",
              "4     org::eclipse::mylyn::internal::java::ui::searc...   \n",
              "...                                                 ...   \n",
              "3178  org::eclipse::jdt::internal::compiler::codegen...   \n",
              "3179  org::eclipse::jdt::internal::compiler::ast::Ja...   \n",
              "3180  org::eclipse::jdt::internal::core::search::mat...   \n",
              "3181  org::eclipse::jdt::core::dom::RecoveredVariabl...   \n",
              "3182       org::eclipse::jdt::core::CompletionProposal    \n",
              "\n",
              "       numberOfBugsFoundUntil:    numberOfNonTrivialBugsFoundUntil:   \\\n",
              "0                             6                                    4   \n",
              "1                            12                                    6   \n",
              "2                             6                                    3   \n",
              "3                             3                                    3   \n",
              "4                             3                                    0   \n",
              "...                         ...                                  ...   \n",
              "3178                         10                                    9   \n",
              "3179                         23                                   21   \n",
              "3180                         21                                   18   \n",
              "3181                          4                                    2   \n",
              "3182                         19                                   14   \n",
              "\n",
              "       numberOfMajorBugsFoundUntil:    numberOfCriticalBugsFoundUntil:   \\\n",
              "0                                  0                                  0   \n",
              "1                                  0                                  0   \n",
              "2                                  0                                  0   \n",
              "3                                  0                                  0   \n",
              "4                                  0                                  0   \n",
              "...                              ...                                ...   \n",
              "3178                               2                                  2   \n",
              "3179                               3                                  1   \n",
              "3180                               1                                  0   \n",
              "3181                               0                                  0   \n",
              "3182                               0                                  0   \n",
              "\n",
              "       numberOfHighPriorityBugsFoundUntil:   Nondefective   nonTrivialBugs   \\\n",
              "0                                         1             1                 0   \n",
              "1                                        10             1                 0   \n",
              "2                                         5             1                 0   \n",
              "3                                         0             1                 0   \n",
              "4                                         2             1                 0   \n",
              "...                                     ...           ...               ...   \n",
              "3178                                      2             1                 0   \n",
              "3179                                      1             1                 0   \n",
              "3180                                      0             0                 0   \n",
              "3181                                      0             1                 0   \n",
              "3182                                      0             0                 0   \n",
              "\n",
              "       majorBugs    criticalBugs   ...   numberOfAttributesInherited   \\\n",
              "0               0               0  ...                              0   \n",
              "1               0               0  ...                              0   \n",
              "2               0               0  ...                              0   \n",
              "3               0               0  ...                              0   \n",
              "4               0               0  ...                              8   \n",
              "...           ...             ...  ...                            ...   \n",
              "3178            0               0  ...                              0   \n",
              "3179            0               0  ...                            386   \n",
              "3180            0               0  ...                             52   \n",
              "3181            0               0  ...                              6   \n",
              "3182            0               0  ...                             20   \n",
              "\n",
              "       numberOfLinesOfCode    numberOfMethods    numberOfMethodsInherited   \\\n",
              "0                        42                  6                           9   \n",
              "1                        60                  9                           0   \n",
              "2                        13                  4                          19   \n",
              "3                        12                  4                          22   \n",
              "4                        12                  4                          47   \n",
              "...                     ...                ...                         ...   \n",
              "3178                      3                  2                           8   \n",
              "3179                     48                  6                          95   \n",
              "3180                    306                 18                          27   \n",
              "3181                     87                 20                          30   \n",
              "3182                    347                 40                          25   \n",
              "\n",
              "       numberOfPrivateAttributes    numberOfPrivateMethods   \\\n",
              "0                               0                         1   \n",
              "1                               6                         0   \n",
              "2                               3                         0   \n",
              "3                               0                         0   \n",
              "4                               0                         0   \n",
              "...                           ...                       ...   \n",
              "3178                            0                         0   \n",
              "3179                            0                         1   \n",
              "3180                            2                         0   \n",
              "3181                            2                         0   \n",
              "3182                           22                         0   \n",
              "\n",
              "       numberOfPublicAttributes    numberOfPublicMethods    rfc    wmc   \n",
              "0                              0                        5     18      8  \n",
              "1                              0                        8     29     14  \n",
              "2                              0                        3      5      4  \n",
              "3                              0                        1      6      3  \n",
              "4                              0                        2      4      5  \n",
              "...                          ...                      ...    ...    ...  \n",
              "3178                           2                        2      2      1  \n",
              "3179                           3                        3     27     14  \n",
              "3180                           6                        6     94     88  \n",
              "3181                           0                       19     47     29  \n",
              "3182                           0                       39    105    100  \n",
              "\n",
              "[3183 rows x 43 columns]"
            ],
            "text/html": [
              "\n",
              "  <div id=\"df-127407a6-fd94-4aad-9314-faf3c5fade08\">\n",
              "    <div class=\"colab-df-container\">\n",
              "      <div>\n",
              "<style scoped>\n",
              "    .dataframe tbody tr th:only-of-type {\n",
              "        vertical-align: middle;\n",
              "    }\n",
              "\n",
              "    .dataframe tbody tr th {\n",
              "        vertical-align: top;\n",
              "    }\n",
              "\n",
              "    .dataframe thead th {\n",
              "        text-align: right;\n",
              "    }\n",
              "</style>\n",
              "<table border=\"1\" class=\"dataframe\">\n",
              "  <thead>\n",
              "    <tr style=\"text-align: right;\">\n",
              "      <th></th>\n",
              "      <th>classname</th>\n",
              "      <th>numberOfBugsFoundUntil:</th>\n",
              "      <th>numberOfNonTrivialBugsFoundUntil:</th>\n",
              "      <th>numberOfMajorBugsFoundUntil:</th>\n",
              "      <th>numberOfCriticalBugsFoundUntil:</th>\n",
              "      <th>numberOfHighPriorityBugsFoundUntil:</th>\n",
              "      <th>Nondefective</th>\n",
              "      <th>nonTrivialBugs</th>\n",
              "      <th>majorBugs</th>\n",
              "      <th>criticalBugs</th>\n",
              "      <th>...</th>\n",
              "      <th>numberOfAttributesInherited</th>\n",
              "      <th>numberOfLinesOfCode</th>\n",
              "      <th>numberOfMethods</th>\n",
              "      <th>numberOfMethodsInherited</th>\n",
              "      <th>numberOfPrivateAttributes</th>\n",
              "      <th>numberOfPrivateMethods</th>\n",
              "      <th>numberOfPublicAttributes</th>\n",
              "      <th>numberOfPublicMethods</th>\n",
              "      <th>rfc</th>\n",
              "      <th>wmc</th>\n",
              "    </tr>\n",
              "  </thead>\n",
              "  <tbody>\n",
              "    <tr>\n",
              "      <th>0</th>\n",
              "      <td>org::eclipse::mylyn::internal::trac::core::uti...</td>\n",
              "      <td>6</td>\n",
              "      <td>4</td>\n",
              "      <td>0</td>\n",
              "      <td>0</td>\n",
              "      <td>1</td>\n",
              "      <td>1</td>\n",
              "      <td>0</td>\n",
              "      <td>0</td>\n",
              "      <td>0</td>\n",
              "      <td>...</td>\n",
              "      <td>0</td>\n",
              "      <td>42</td>\n",
              "      <td>6</td>\n",
              "      <td>9</td>\n",
              "      <td>0</td>\n",
              "      <td>1</td>\n",
              "      <td>0</td>\n",
              "      <td>5</td>\n",
              "      <td>18</td>\n",
              "      <td>8</td>\n",
              "    </tr>\n",
              "    <tr>\n",
              "      <th>1</th>\n",
              "      <td>org::eclipse::mylyn::internal::sandbox::bridge...</td>\n",
              "      <td>12</td>\n",
              "      <td>6</td>\n",
              "      <td>0</td>\n",
              "      <td>0</td>\n",
              "      <td>10</td>\n",
              "      <td>1</td>\n",
              "      <td>0</td>\n",
              "      <td>0</td>\n",
              "      <td>0</td>\n",
              "      <td>...</td>\n",
              "      <td>0</td>\n",
              "      <td>60</td>\n",
              "      <td>9</td>\n",
              "      <td>0</td>\n",
              "      <td>6</td>\n",
              "      <td>0</td>\n",
              "      <td>0</td>\n",
              "      <td>8</td>\n",
              "      <td>29</td>\n",
              "      <td>14</td>\n",
              "    </tr>\n",
              "    <tr>\n",
              "      <th>2</th>\n",
              "      <td>org::eclipse::mylyn::internal::jira::core::mod...</td>\n",
              "      <td>6</td>\n",
              "      <td>3</td>\n",
              "      <td>0</td>\n",
              "      <td>0</td>\n",
              "      <td>5</td>\n",
              "      <td>1</td>\n",
              "      <td>0</td>\n",
              "      <td>0</td>\n",
              "      <td>0</td>\n",
              "      <td>...</td>\n",
              "      <td>0</td>\n",
              "      <td>13</td>\n",
              "      <td>4</td>\n",
              "      <td>19</td>\n",
              "      <td>3</td>\n",
              "      <td>0</td>\n",
              "      <td>0</td>\n",
              "      <td>3</td>\n",
              "      <td>5</td>\n",
              "      <td>4</td>\n",
              "    </tr>\n",
              "    <tr>\n",
              "      <th>3</th>\n",
              "      <td>org::eclipse::mylyn::internal::wikitext::texti...</td>\n",
              "      <td>3</td>\n",
              "      <td>3</td>\n",
              "      <td>0</td>\n",
              "      <td>0</td>\n",
              "      <td>0</td>\n",
              "      <td>1</td>\n",
              "      <td>0</td>\n",
              "      <td>0</td>\n",
              "      <td>0</td>\n",
              "      <td>...</td>\n",
              "      <td>0</td>\n",
              "      <td>12</td>\n",
              "      <td>4</td>\n",
              "      <td>22</td>\n",
              "      <td>0</td>\n",
              "      <td>0</td>\n",
              "      <td>0</td>\n",
              "      <td>1</td>\n",
              "      <td>6</td>\n",
              "      <td>3</td>\n",
              "    </tr>\n",
              "    <tr>\n",
              "      <th>4</th>\n",
              "      <td>org::eclipse::mylyn::internal::java::ui::searc...</td>\n",
              "      <td>3</td>\n",
              "      <td>0</td>\n",
              "      <td>0</td>\n",
              "      <td>0</td>\n",
              "      <td>2</td>\n",
              "      <td>1</td>\n",
              "      <td>0</td>\n",
              "      <td>0</td>\n",
              "      <td>0</td>\n",
              "      <td>...</td>\n",
              "      <td>8</td>\n",
              "      <td>12</td>\n",
              "      <td>4</td>\n",
              "      <td>47</td>\n",
              "      <td>0</td>\n",
              "      <td>0</td>\n",
              "      <td>0</td>\n",
              "      <td>2</td>\n",
              "      <td>4</td>\n",
              "      <td>5</td>\n",
              "    </tr>\n",
              "    <tr>\n",
              "      <th>...</th>\n",
              "      <td>...</td>\n",
              "      <td>...</td>\n",
              "      <td>...</td>\n",
              "      <td>...</td>\n",
              "      <td>...</td>\n",
              "      <td>...</td>\n",
              "      <td>...</td>\n",
              "      <td>...</td>\n",
              "      <td>...</td>\n",
              "      <td>...</td>\n",
              "      <td>...</td>\n",
              "      <td>...</td>\n",
              "      <td>...</td>\n",
              "      <td>...</td>\n",
              "      <td>...</td>\n",
              "      <td>...</td>\n",
              "      <td>...</td>\n",
              "      <td>...</td>\n",
              "      <td>...</td>\n",
              "      <td>...</td>\n",
              "      <td>...</td>\n",
              "    </tr>\n",
              "    <tr>\n",
              "      <th>3178</th>\n",
              "      <td>org::eclipse::jdt::internal::compiler::codegen...</td>\n",
              "      <td>10</td>\n",
              "      <td>9</td>\n",
              "      <td>2</td>\n",
              "      <td>2</td>\n",
              "      <td>2</td>\n",
              "      <td>1</td>\n",
              "      <td>0</td>\n",
              "      <td>0</td>\n",
              "      <td>0</td>\n",
              "      <td>...</td>\n",
              "      <td>0</td>\n",
              "      <td>3</td>\n",
              "      <td>2</td>\n",
              "      <td>8</td>\n",
              "      <td>0</td>\n",
              "      <td>0</td>\n",
              "      <td>2</td>\n",
              "      <td>2</td>\n",
              "      <td>2</td>\n",
              "      <td>1</td>\n",
              "    </tr>\n",
              "    <tr>\n",
              "      <th>3179</th>\n",
              "      <td>org::eclipse::jdt::internal::compiler::ast::Ja...</td>\n",
              "      <td>23</td>\n",
              "      <td>21</td>\n",
              "      <td>3</td>\n",
              "      <td>1</td>\n",
              "      <td>1</td>\n",
              "      <td>1</td>\n",
              "      <td>0</td>\n",
              "      <td>0</td>\n",
              "      <td>0</td>\n",
              "      <td>...</td>\n",
              "      <td>386</td>\n",
              "      <td>48</td>\n",
              "      <td>6</td>\n",
              "      <td>95</td>\n",
              "      <td>0</td>\n",
              "      <td>1</td>\n",
              "      <td>3</td>\n",
              "      <td>3</td>\n",
              "      <td>27</td>\n",
              "      <td>14</td>\n",
              "    </tr>\n",
              "    <tr>\n",
              "      <th>3180</th>\n",
              "      <td>org::eclipse::jdt::internal::core::search::mat...</td>\n",
              "      <td>21</td>\n",
              "      <td>18</td>\n",
              "      <td>1</td>\n",
              "      <td>0</td>\n",
              "      <td>0</td>\n",
              "      <td>0</td>\n",
              "      <td>0</td>\n",
              "      <td>0</td>\n",
              "      <td>0</td>\n",
              "      <td>...</td>\n",
              "      <td>52</td>\n",
              "      <td>306</td>\n",
              "      <td>18</td>\n",
              "      <td>27</td>\n",
              "      <td>2</td>\n",
              "      <td>0</td>\n",
              "      <td>6</td>\n",
              "      <td>6</td>\n",
              "      <td>94</td>\n",
              "      <td>88</td>\n",
              "    </tr>\n",
              "    <tr>\n",
              "      <th>3181</th>\n",
              "      <td>org::eclipse::jdt::core::dom::RecoveredVariabl...</td>\n",
              "      <td>4</td>\n",
              "      <td>2</td>\n",
              "      <td>0</td>\n",
              "      <td>0</td>\n",
              "      <td>0</td>\n",
              "      <td>1</td>\n",
              "      <td>0</td>\n",
              "      <td>0</td>\n",
              "      <td>0</td>\n",
              "      <td>...</td>\n",
              "      <td>6</td>\n",
              "      <td>87</td>\n",
              "      <td>20</td>\n",
              "      <td>30</td>\n",
              "      <td>2</td>\n",
              "      <td>0</td>\n",
              "      <td>0</td>\n",
              "      <td>19</td>\n",
              "      <td>47</td>\n",
              "      <td>29</td>\n",
              "    </tr>\n",
              "    <tr>\n",
              "      <th>3182</th>\n",
              "      <td>org::eclipse::jdt::core::CompletionProposal</td>\n",
              "      <td>19</td>\n",
              "      <td>14</td>\n",
              "      <td>0</td>\n",
              "      <td>0</td>\n",
              "      <td>0</td>\n",
              "      <td>0</td>\n",
              "      <td>0</td>\n",
              "      <td>0</td>\n",
              "      <td>0</td>\n",
              "      <td>...</td>\n",
              "      <td>20</td>\n",
              "      <td>347</td>\n",
              "      <td>40</td>\n",
              "      <td>25</td>\n",
              "      <td>22</td>\n",
              "      <td>0</td>\n",
              "      <td>0</td>\n",
              "      <td>39</td>\n",
              "      <td>105</td>\n",
              "      <td>100</td>\n",
              "    </tr>\n",
              "  </tbody>\n",
              "</table>\n",
              "<p>3183 rows × 43 columns</p>\n",
              "</div>\n",
              "      <button class=\"colab-df-convert\" onclick=\"convertToInteractive('df-127407a6-fd94-4aad-9314-faf3c5fade08')\"\n",
              "              title=\"Convert this dataframe to an interactive table.\"\n",
              "              style=\"display:none;\">\n",
              "        \n",
              "  <svg xmlns=\"http://www.w3.org/2000/svg\" height=\"24px\"viewBox=\"0 0 24 24\"\n",
              "       width=\"24px\">\n",
              "    <path d=\"M0 0h24v24H0V0z\" fill=\"none\"/>\n",
              "    <path d=\"M18.56 5.44l.94 2.06.94-2.06 2.06-.94-2.06-.94-.94-2.06-.94 2.06-2.06.94zm-11 1L8.5 8.5l.94-2.06 2.06-.94-2.06-.94L8.5 2.5l-.94 2.06-2.06.94zm10 10l.94 2.06.94-2.06 2.06-.94-2.06-.94-.94-2.06-.94 2.06-2.06.94z\"/><path d=\"M17.41 7.96l-1.37-1.37c-.4-.4-.92-.59-1.43-.59-.52 0-1.04.2-1.43.59L10.3 9.45l-7.72 7.72c-.78.78-.78 2.05 0 2.83L4 21.41c.39.39.9.59 1.41.59.51 0 1.02-.2 1.41-.59l7.78-7.78 2.81-2.81c.8-.78.8-2.07 0-2.86zM5.41 20L4 18.59l7.72-7.72 1.47 1.35L5.41 20z\"/>\n",
              "  </svg>\n",
              "      </button>\n",
              "      \n",
              "  <style>\n",
              "    .colab-df-container {\n",
              "      display:flex;\n",
              "      flex-wrap:wrap;\n",
              "      gap: 12px;\n",
              "    }\n",
              "\n",
              "    .colab-df-convert {\n",
              "      background-color: #E8F0FE;\n",
              "      border: none;\n",
              "      border-radius: 50%;\n",
              "      cursor: pointer;\n",
              "      display: none;\n",
              "      fill: #1967D2;\n",
              "      height: 32px;\n",
              "      padding: 0 0 0 0;\n",
              "      width: 32px;\n",
              "    }\n",
              "\n",
              "    .colab-df-convert:hover {\n",
              "      background-color: #E2EBFA;\n",
              "      box-shadow: 0px 1px 2px rgba(60, 64, 67, 0.3), 0px 1px 3px 1px rgba(60, 64, 67, 0.15);\n",
              "      fill: #174EA6;\n",
              "    }\n",
              "\n",
              "    [theme=dark] .colab-df-convert {\n",
              "      background-color: #3B4455;\n",
              "      fill: #D2E3FC;\n",
              "    }\n",
              "\n",
              "    [theme=dark] .colab-df-convert:hover {\n",
              "      background-color: #434B5C;\n",
              "      box-shadow: 0px 1px 3px 1px rgba(0, 0, 0, 0.15);\n",
              "      filter: drop-shadow(0px 1px 2px rgba(0, 0, 0, 0.3));\n",
              "      fill: #FFFFFF;\n",
              "    }\n",
              "  </style>\n",
              "\n",
              "      <script>\n",
              "        const buttonEl =\n",
              "          document.querySelector('#df-127407a6-fd94-4aad-9314-faf3c5fade08 button.colab-df-convert');\n",
              "        buttonEl.style.display =\n",
              "          google.colab.kernel.accessAllowed ? 'block' : 'none';\n",
              "\n",
              "        async function convertToInteractive(key) {\n",
              "          const element = document.querySelector('#df-127407a6-fd94-4aad-9314-faf3c5fade08');\n",
              "          const dataTable =\n",
              "            await google.colab.kernel.invokeFunction('convertToInteractive',\n",
              "                                                     [key], {});\n",
              "          if (!dataTable) return;\n",
              "\n",
              "          const docLinkHtml = 'Like what you see? Visit the ' +\n",
              "            '<a target=\"_blank\" href=https://colab.research.google.com/notebooks/data_table.ipynb>data table notebook</a>'\n",
              "            + ' to learn more about interactive tables.';\n",
              "          element.innerHTML = '';\n",
              "          dataTable['output_type'] = 'display_data';\n",
              "          await google.colab.output.renderOutput(dataTable, element);\n",
              "          const docLink = document.createElement('div');\n",
              "          docLink.innerHTML = docLinkHtml;\n",
              "          element.appendChild(docLink);\n",
              "        }\n",
              "      </script>\n",
              "    </div>\n",
              "  </div>\n",
              "  "
            ]
          },
          "metadata": {},
          "execution_count": 3
        }
      ],
      "source": [
        "df=pd.read_excel('/content/gdrive/MyDrive/Btech_Project/CombinedDataset/Equ_Myl_Ecl.xlsx')\n",
        "df"
      ]
    },
    {
      "cell_type": "code",
      "execution_count": 4,
      "metadata": {
        "colab": {
          "base_uri": "https://localhost:8080/"
        },
        "id": "yPmNxAshFMED",
        "outputId": "0f25af6e-533f-4a49-b7ce-c647760ecb79"
      },
      "outputs": [
        {
          "output_type": "stream",
          "name": "stdout",
          "text": [
            "defective  580\n"
          ]
        }
      ],
      "source": [
        "print(\"defective \",len(df[df['Nondefective'] ==0]))"
      ]
    },
    {
      "cell_type": "code",
      "execution_count": 5,
      "metadata": {
        "id": "kC72pQT3maSE"
      },
      "outputs": [],
      "source": [
        "unlabelled_df = df.loc[(df['Nondefective']==0)&(df[' highPriorityBugs ']==0)&(df[' criticalBugs ']==0)&(df[' majorBugs ']==0)&(df[' nonTrivialBugs ']==0)]"
      ]
    },
    {
      "cell_type": "code",
      "execution_count": 6,
      "metadata": {
        "colab": {
          "base_uri": "https://localhost:8080/"
        },
        "id": "6sMj0Yuhnm9A",
        "outputId": "c2283a50-f231-44e5-d8b4-565b05fa783e"
      },
      "outputs": [
        {
          "output_type": "stream",
          "name": "stdout",
          "text": [
            "(377, 43)\n"
          ]
        }
      ],
      "source": [
        "print(unlabelled_df.shape)"
      ]
    },
    {
      "cell_type": "code",
      "execution_count": 7,
      "metadata": {
        "id": "JMwPeyntnXNy"
      },
      "outputs": [],
      "source": [
        "labelled_df = df.loc[~((df['Nondefective']==0)&(df[' highPriorityBugs ']==0)&(df[' criticalBugs ']==0)&(df[' majorBugs ']==0)&(df[' nonTrivialBugs ']==0))]"
      ]
    },
    {
      "cell_type": "code",
      "execution_count": 8,
      "metadata": {
        "colab": {
          "base_uri": "https://localhost:8080/"
        },
        "id": "NNaOC7LboBtF",
        "outputId": "e7b71b00-43f4-40a5-d76e-b74d82370363"
      },
      "outputs": [
        {
          "output_type": "stream",
          "name": "stdout",
          "text": [
            "(2806, 43)\n"
          ]
        }
      ],
      "source": [
        "print(labelled_df.shape)"
      ]
    },
    {
      "cell_type": "code",
      "execution_count": 9,
      "metadata": {
        "colab": {
          "base_uri": "https://localhost:8080/"
        },
        "id": "uwHWGAorwSBG",
        "outputId": "2f9e3107-b171-4ac8-9734-2093fd6b9285"
      },
      "outputs": [
        {
          "output_type": "execute_result",
          "data": {
            "text/plain": [
              "Index(['classname ', ' numberOfBugsFoundUntil: ',\n",
              "       ' numberOfNonTrivialBugsFoundUntil: ', ' numberOfMajorBugsFoundUntil: ',\n",
              "       ' numberOfCriticalBugsFoundUntil: ',\n",
              "       ' numberOfHighPriorityBugsFoundUntil: ', 'Nondefective',\n",
              "       ' nonTrivialBugs ', ' majorBugs ', ' criticalBugs ',\n",
              "       ' highPriorityBugs ', ' numberOfVersionsUntil: ',\n",
              "       ' numberOfFixesUntil: ', ' numberOfRefactoringsUntil: ',\n",
              "       ' numberOfAuthorsUntil: ', ' linesAddedUntil: ',\n",
              "       ' maxLinesAddedUntil: ', ' avgLinesAddedUntil: ',\n",
              "       ' linesRemovedUntil: ', ' maxLinesRemovedUntil: ',\n",
              "       ' avgLinesRemovedUntil: ', ' codeChurnUntil: ', ' maxCodeChurnUntil: ',\n",
              "       ' avgCodeChurnUntil: ', ' ageWithRespectTo: ',\n",
              "       ' weightedAgeWithRespectTo: ', ' cbo ', ' dit ', ' fanIn ', ' fanOut ',\n",
              "       ' lcom ', ' noc ', ' numberOfAttributes ',\n",
              "       ' numberOfAttributesInherited ', ' numberOfLinesOfCode ',\n",
              "       ' numberOfMethods ', ' numberOfMethodsInherited ',\n",
              "       ' numberOfPrivateAttributes ', ' numberOfPrivateMethods ',\n",
              "       ' numberOfPublicAttributes ', ' numberOfPublicMethods ', ' rfc ',\n",
              "       ' wmc '],\n",
              "      dtype='object')"
            ]
          },
          "metadata": {},
          "execution_count": 9
        }
      ],
      "source": [
        "df.columns"
      ]
    },
    {
      "cell_type": "markdown",
      "metadata": {
        "id": "pTiWcvRnwt3B"
      },
      "source": [
        "# Generating **X,y**"
      ]
    },
    {
      "cell_type": "code",
      "execution_count": 10,
      "metadata": {
        "colab": {
          "base_uri": "https://localhost:8080/"
        },
        "id": "6fjSQ1J-orWX",
        "outputId": "9e17eebe-7cab-4e3e-a8a2-a60adf0a2ddf"
      },
      "outputs": [
        {
          "output_type": "stream",
          "name": "stdout",
          "text": [
            "x :  [[6 4 0 ... 5 18 8]\n",
            " [12 6 0 ... 8 29 14]\n",
            " [6 3 0 ... 3 5 4]\n",
            " ...\n",
            " [10 9 2 ... 2 2 1]\n",
            " [23 21 3 ... 3 27 14]\n",
            " [4 2 0 ... 19 47 29]]\n",
            "y :  [[0 0 0 0 1]\n",
            " [0 0 0 0 1]\n",
            " [0 0 0 0 1]\n",
            " ...\n",
            " [0 0 0 0 1]\n",
            " [0 0 0 0 1]\n",
            " [0 0 0 0 1]]\n"
          ]
        }
      ],
      "source": [
        "data =labelled_df.values\n",
        "idx_OUT_columns = [10,9,8,7,6]\n",
        "idx_IN_columns = [i for i in range(np.shape(data)[1]) if i not in idx_OUT_columns]\n",
        "x = data[:,idx_IN_columns]\n",
        "x = x[:,1:]\n",
        "y = data[:,idx_OUT_columns]\n",
        "y=y.astype('int')\n",
        "print(\"x : \",x)\n",
        "print(\"y : \",y)"
      ]
    },
    {
      "cell_type": "code",
      "execution_count": 11,
      "metadata": {
        "id": "gDiHXx_LzNG0"
      },
      "outputs": [],
      "source": [
        "data =unlabelled_df.values\n",
        "idx_OUT_columns = [10,9,8,7,6]\n",
        "idx_IN_columns = [i for i in range(np.shape(data)[1]) if i not in idx_OUT_columns]\n",
        "X_unlabelled = data[:,idx_IN_columns]\n",
        "X_unlabelled = X_unlabelled[:,1:]"
      ]
    },
    {
      "cell_type": "code",
      "execution_count": 12,
      "metadata": {
        "id": "rrukQGQAXyLd"
      },
      "outputs": [],
      "source": [
        "oversample = ADASYN(n_neighbors=1)\n",
        "X, Y = oversample.fit_resample(x, y)"
      ]
    },
    {
      "cell_type": "markdown",
      "metadata": {
        "id": "Z5Wd0wBkrdAt"
      },
      "source": [
        "# **CLASSESS**"
      ]
    },
    {
      "cell_type": "code",
      "execution_count": 13,
      "metadata": {
        "id": "mgaK1uplo0Fl"
      },
      "outputs": [],
      "source": [
        "def counting(y):\n",
        "  count=[0,0,0,0,0]\n",
        "  for i in range(len(y)):\n",
        "    k=0\n",
        "    for j in range(5):\n",
        "      if(y[i][j]==1):\n",
        "        count[j]+=1\n",
        "  print(\"no of nonTrivialBugs \",count[3])\n",
        "  print(\"no of majorBugs \",count[2])\n",
        "  print(\"no of criticalBugs \",count[1])\n",
        "  print(\"no of highPriorityBugs \",count[0])\n",
        "  print(\"no of Nondefective modules \",count[4])\n",
        "  return count;"
      ]
    },
    {
      "cell_type": "code",
      "execution_count": 14,
      "metadata": {
        "colab": {
          "base_uri": "https://localhost:8080/"
        },
        "id": "tgo4L60Dwlqb",
        "outputId": "2ba9dca4-9157-4ac6-cac1-fb26b620dfaa"
      },
      "outputs": [
        {
          "output_type": "stream",
          "name": "stdout",
          "text": [
            "no of nonTrivialBugs  2575\n",
            "no of majorBugs  2602\n",
            "no of criticalBugs  2600\n",
            "no of highPriorityBugs  2587\n",
            "no of Nondefective modules  2603\n"
          ]
        },
        {
          "output_type": "execute_result",
          "data": {
            "text/plain": [
              "[2587, 2600, 2602, 2575, 2603]"
            ]
          },
          "metadata": {},
          "execution_count": 14
        }
      ],
      "source": [
        "counting(Y)"
      ]
    },
    {
      "cell_type": "markdown",
      "metadata": {
        "id": "qLaAM1nKrR8C"
      },
      "source": [
        "# SELF-**TRAINING**"
      ]
    },
    {
      "cell_type": "code",
      "execution_count": 15,
      "metadata": {
        "colab": {
          "base_uri": "https://localhost:8080/"
        },
        "id": "thbihmfGz_Vv",
        "outputId": "9067c156-8461-49b1-a977-5ce74a034abb"
      },
      "outputs": [
        {
          "output_type": "stream",
          "name": "stdout",
          "text": [
            "Iteration 0\n",
            "Train f1: 1.0\n",
            "Now predicting labels for unlabeled data...\n",
            "377 high-probability predictions added to training data.\n",
            "0 unlabeled instances remaining.\n",
            "\n"
          ]
        }
      ],
      "source": [
        "# Initiate iteration counter\n",
        "\n",
        "iterations = 0\n",
        "\n",
        "# Containers to hold f1_scores and # of pseudo-labels\n",
        "train_f1s = []\n",
        "test_f1s = []\n",
        "pseudo_labels = []\n",
        "\n",
        "# Assign value to initiate while loop\n",
        "high_prob = [1] \n",
        "\n",
        "Y=np.argmax(Y,axis=1)\n",
        "\n",
        "cnt=0\n",
        "while len(X_unlabelled) > 0:\n",
        "        \n",
        "    # Fit classifier and make train/test predictions\n",
        "    clf =  DecisionTreeClassifier()\n",
        "    clf.fit(X, Y)\n",
        "    y_hat_train = clf.predict(X)\n",
        "\n",
        "    # Calculate and print iteration # and f1 scores, and store f1 scores\n",
        "    train_f1 = f1_score(Y, y_hat_train,average='micro')\n",
        "    print(f\"Iteration {iterations}\") \n",
        "    print(f\"Train f1: {train_f1}\")\n",
        "    train_f1s.append(train_f1)\n",
        "   \n",
        "    # Generate predictions and probabilities for unlabeled data\n",
        "    print(f\"Now predicting labels for unlabeled data...\")\n",
        "\n",
        "    preds = clf.predict(X_unlabelled)\n",
        "    pred_probs = clf.predict_proba(X_unlabelled)\n",
        "\n",
        "    prob_0 = [row[0] for row in pred_probs]\n",
        "    prob_1 = [row[1] for row in pred_probs]\n",
        "    prob_2 = [row[2] for row in pred_probs]\n",
        "    prob_3 = [row[3] for row in pred_probs]\n",
        "    prob_4 = [row[4] for row in pred_probs]\n",
        "\n",
        "    # Store predictions and probabilities in dataframe\n",
        "    df_pred_prob = pd.DataFrame([])\n",
        "   \n",
        "    df_pred_prob['preds'] = preds\n",
        "    df_pred_prob['prob_0'] = prob_0\n",
        "    df_pred_prob['prob_1'] = prob_1\n",
        "    df_pred_prob['prob_2'] = prob_2\n",
        "    df_pred_prob['prob_3'] = prob_3\n",
        "    df_pred_prob['prob_4'] = prob_4 \n",
        "    df_pred_prob.index = [i for i in range(len(X_unlabelled))]\n",
        "    k=0.99\n",
        "    # Separate predictions with > 99% probability\n",
        "    high_prob = pd.concat([df_pred_prob.loc[df_pred_prob['prob_0'] > k],\n",
        "                           df_pred_prob.loc[df_pred_prob['prob_1'] > k],df_pred_prob.loc[df_pred_prob['prob_2'] > k],\n",
        "                           df_pred_prob.loc[df_pred_prob['prob_3'] > k],df_pred_prob.loc[df_pred_prob['prob_4'] > k]],\n",
        "                          axis=0)\n",
        "    \n",
        "    print(f\"{len(high_prob)} high-probability predictions added to training data.\")\n",
        "    \n",
        "    pseudo_labels.append(len(high_prob))\n",
        "\n",
        "    # Add pseudo-labeled data to training data\n",
        "    if(high_prob.empty==False):\n",
        "      X = np.vstack((X,X_unlabelled[high_prob.index]))\n",
        "      y_pred  = np.array(high_prob.preds)\n",
        "      Y = np.hstack((Y,y_pred))\n",
        "      \n",
        "      # Drop pseudo-labeled instances from unlabeled data\n",
        "      idx_predict = [i for i in range(np.shape(X_unlabelled)[0]) if i not in high_prob.index]\n",
        "      X_unlabelled = X_unlabelled[idx_predict]\n",
        "      print(f\"{len(X_unlabelled)} unlabeled instances remaining.\\n\")\n",
        "    else :\n",
        "      break;\n",
        "    # Update iteration counter\n",
        "    iterations += 1"
      ]
    },
    {
      "cell_type": "markdown",
      "metadata": {
        "id": "BarSw_0EwlUO"
      },
      "source": [
        "## **Performance Measures**"
      ]
    },
    {
      "cell_type": "code",
      "execution_count": 16,
      "metadata": {
        "id": "J4NF2z-YnoEY"
      },
      "outputs": [],
      "source": [
        "def Function(clf):\n",
        "  clf.fit(X, Y)\n",
        "  y_hat_train = clf.predict(X)\n",
        "  train_f1 = f1_score(Y, y_hat_train,average='micro')\n",
        "  print(f\"Train f1: {train_f1}\")\n",
        "  df=pd.read_excel('/content/gdrive/MyDrive/Btech_Project/CombinedDataset/pde.xlsx')\n",
        "  labelled_df = df.loc[~((df['Nondefective']==0)&(df[' highPriorityBugs ']==0)&(df[' criticalBugs ']==0)&(df[' majorBugs ']==0)&(df[' nonTrivialBugs ']==0))]\n",
        "  data =labelled_df.values\n",
        "  idx_OUT_columns = [10,9,8,7,6]\n",
        "  idx_IN_columns = [i for i in range(np.shape(data)[1]) if i not in idx_OUT_columns]\n",
        "  x_test = data[:,idx_IN_columns]\n",
        "  x_test = x_test[:,1:]\n",
        "  y_test = data[:,idx_OUT_columns]\n",
        "  y_test=y_test.astype('int')\n",
        "  y_test=np.argmax(y_test,axis=1)\n",
        "  yhat_test= clf.predict(x_test)\n",
        "  yhat_pred_probs = clf.predict_proba(x_test)\n",
        "  print(\"test f1score : \",f1_score(y_test, yhat_test,average='micro'))\n",
        "  CM=confusion_matrix(y_test, yhat_test,labels=[0,1,2,3,4])\n",
        "\n",
        "  print(CM)\n",
        "\n",
        "  Risk_HP=((0.1*CM[0][1])+(0.2*CM[0][2])+(0.3*CM[0][3])+(0.4*CM[0][4]))/(CM[0][0]+CM[0][1]+CM[0][2]+CM[0][3]+CM[0][4])\n",
        "  Risk_C=((0.1*CM[1][2])+(0.2*CM[1][3])+(0.3*CM[1][4]))/(CM[1][0]+CM[1][1]+CM[1][2]+CM[1][3]+CM[1][4])\n",
        "  Risk_M=((0.1*CM[2][3])+(0.2*CM[2][4]))/(CM[2][0]+CM[2][1]+CM[2][2]+CM[2][3]+CM[2][4])\n",
        "  Risk_NT=(0.1*CM[3][4])/(CM[3][0]+CM[3][1]+CM[3][2]+CM[3][3]+CM[4][4])\n",
        "  print(\"Risk Factor for High Priority\",Risk_HP)\n",
        "  print(\"Risk Factor for Critical\",Risk_C)\n",
        "  print(\"Risk Factor for Major\",Risk_M)\n",
        "  print(\"Risk Factor for Non-Trivial\",Risk_NT)\n",
        "  print('PTN:',CM[4][4],'/',len(x_test),'=',CM[4][4]/len(x_test))\n",
        "  total_loc=0\n",
        "  tn_loc=0\n",
        "  for i in range(len(x_test)):\n",
        "    total_loc=total_loc+x_test[i][28]\n",
        "    if((yhat_test[i]==4)and(y_test[i]==4)):\n",
        "      tn_loc=tn_loc+x_test[i][28]\n",
        "  print('Saved Budget:',tn_loc)\n",
        "  print('PSB:',tn_loc/total_loc)\n",
        "  print('PNTN:',(1-(CM[4][4]/len(x_test))))\n",
        "  print('Remaining Servie Time:',total_loc-tn_loc)\n",
        "  print('PRST:',(1-(tn_loc/total_loc)))"
      ]
    },
    {
      "cell_type": "code",
      "execution_count": 17,
      "metadata": {
        "colab": {
          "base_uri": "https://localhost:8080/"
        },
        "id": "I4TloQsWMFaa",
        "outputId": "22f45283-1468-43f1-e929-326fa21945d4"
      },
      "outputs": [
        {
          "output_type": "stream",
          "name": "stderr",
          "text": [
            "/usr/local/lib/python3.7/dist-packages/sklearn/linear_model/_logistic.py:818: ConvergenceWarning: lbfgs failed to converge (status=1):\n",
            "STOP: TOTAL NO. of ITERATIONS REACHED LIMIT.\n",
            "\n",
            "Increase the number of iterations (max_iter) or scale the data as shown in:\n",
            "    https://scikit-learn.org/stable/modules/preprocessing.html\n",
            "Please also refer to the documentation for alternative solver options:\n",
            "    https://scikit-learn.org/stable/modules/linear_model.html#logistic-regression\n",
            "  extra_warning_msg=_LOGISTIC_SOLVER_CONVERGENCE_MSG,\n"
          ]
        },
        {
          "output_type": "stream",
          "name": "stdout",
          "text": [
            "Train f1: 0.5380695443645084\n",
            "test f1score :  0.8656273199703044\n",
            "[[   0    0    0    0    0]\n",
            " [   3    1    0    0    2]\n",
            " [   7    1    1    8   29]\n",
            " [   1    1    1    1    3]\n",
            " [  56   15   28   26 1163]]\n",
            "Risk Factor for High Priority nan\n",
            "Risk Factor for Critical 0.09999999999999999\n",
            "Risk Factor for Major 0.14347826086956522\n",
            "Risk Factor for Non-Trivial 0.00025706940874035993\n",
            "PTN: 1163 / 1347 = 0.8634001484780994\n",
            "Saved Budget: 72566\n",
            "PSB: 0.5980730716293177\n",
            "PNTN: 0.13659985152190057\n",
            "Remaining Servie Time: 48767\n",
            "PRST: 0.40192692837068233\n"
          ]
        },
        {
          "output_type": "stream",
          "name": "stderr",
          "text": [
            "/usr/local/lib/python3.7/dist-packages/ipykernel_launcher.py:23: RuntimeWarning: invalid value encountered in double_scalars\n"
          ]
        }
      ],
      "source": [
        "Function(LogisticRegression());"
      ]
    },
    {
      "cell_type": "code",
      "source": [
        "Function(DecisionTreeClassifier())"
      ],
      "metadata": {
        "colab": {
          "base_uri": "https://localhost:8080/"
        },
        "id": "tf7-I7HsMgUw",
        "outputId": "b5cdba41-f14e-4465-8ee7-95996e150240"
      },
      "execution_count": 18,
      "outputs": [
        {
          "output_type": "stream",
          "name": "stdout",
          "text": [
            "Train f1: 1.0\n",
            "test f1score :  0.9042316258351893\n",
            "[[   0    0    0    0    0]\n",
            " [   0    0    0    0    6]\n",
            " [   3    0    1    1   41]\n",
            " [   0    0    0    1    6]\n",
            " [   6    9    7   50 1216]]\n",
            "Risk Factor for High Priority nan\n",
            "Risk Factor for Critical 0.3\n",
            "Risk Factor for Major 0.18043478260869567\n",
            "Risk Factor for Non-Trivial 0.0004930156121610519\n",
            "PTN: 1216 / 1347 = 0.902746844840386\n",
            "Saved Budget: 87715\n",
            "PSB: 0.722927810241237\n",
            "PNTN: 0.09725315515961397\n",
            "Remaining Servie Time: 33618\n",
            "PRST: 0.277072189758763\n"
          ]
        },
        {
          "output_type": "stream",
          "name": "stderr",
          "text": [
            "/usr/local/lib/python3.7/dist-packages/ipykernel_launcher.py:23: RuntimeWarning: invalid value encountered in double_scalars\n"
          ]
        }
      ]
    }
  ],
  "metadata": {
    "colab": {
      "collapsed_sections": [],
      "name": "Self_training_Classifier.ipynb",
      "provenance": []
    },
    "kernelspec": {
      "display_name": "Python 3",
      "name": "python3"
    },
    "language_info": {
      "name": "python"
    }
  },
  "nbformat": 4,
  "nbformat_minor": 0
}